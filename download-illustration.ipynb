{
 "cells": [
  {
   "cell_type": "markdown",
   "metadata": {},
   "source": [
    "### Import module"
   ]
  },
  {
   "cell_type": "code",
   "execution_count": 1,
   "metadata": {
    "collapsed": true
   },
   "outputs": [],
   "source": [
    "from bs4 import BeautifulSoup\n",
    "import requests\n",
    "import os"
   ]
  },
  {
   "cell_type": "markdown",
   "metadata": {},
   "source": [
    "### Define function"
   ]
  },
  {
   "cell_type": "code",
   "execution_count": 30,
   "metadata": {},
   "outputs": [],
   "source": [
    "def open_url_get(url):\n",
    "    \"\"\"Open url and get text response\"\"\"\n",
    "    r = requests.get(url)\n",
    "    return r.text\n",
    "\n",
    "def open_url_get_content(url):\n",
    "    \"\"\"Open url and get binary response\"\"\"\n",
    "    r = requests.get(url)\n",
    "    return r.content\n",
    "\n",
    "def get_character_page():\n",
    "    \"\"\"Ger character page url list\"\"\"\n",
    "    character_main_url = 'https://www.falcom.co.jp/sen4/character/'\n",
    "    soup = BeautifulSoup(open_url_get(character_main_url), 'html.parser')\n",
    "    #character_html_link_btnlg = soup.find_all('div', class_='btn lg')\n",
    "    character_htnl_link_btn = soup.find_all('div', class_='btn')\n",
    "    #character_html_link = character_html_link_btnlg + character_htnl_link_btn\n",
    "    character_html_link = character_htnl_link_btn\n",
    "    link_list = [character_main_url + l.a['href'] for l in character_html_link]\n",
    "    return link_list\n",
    "\n",
    "def get_illustration_url(url):\n",
    "    \"\"\"Get character illustration url\"\"\"\n",
    "    #url='https://www.falcom.co.jp/sen4/character/rean.html'\n",
    "    character_soup = BeautifulSoup(open_url_get(url),'html.parser')\n",
    "    character_illustration = character_soup.find('img', class_='chara-illust')\n",
    "    character_illustration_url = 'https://www.falcom.co.jp/sen4' + character_illustration['src'][2:]\n",
    "    return character_illustration_url\n",
    "\n",
    "def save_file(in_data, out_path):\n",
    "    \"\"\"Save image\"\"\"\n",
    "    with open(out_path, 'wb') as f:\n",
    "        f.write(in_data)\n",
    "\n",
    "def download_images(url):\n",
    "    \"\"\"Download image\"\"\"\n",
    "    pic_name = url.split('/')[-1]\n",
    "    if not os.path.exists(r'./images/' + pic_name):\n",
    "        pic_data = open_url_get_content(url)\n",
    "        save_file(pic_data, r'./images/' + pic_name)\n",
    "        print(\"Illustration {} downloaded.\".format(pic_name))\n",
    "    else:\n",
    "        print(\"Illustration {} exists.\".format(pic_name))"
   ]
  },
  {
   "cell_type": "markdown",
   "metadata": {},
   "source": [
    "### Download illustration"
   ]
  },
  {
   "cell_type": "code",
   "execution_count": 33,
   "metadata": {},
   "outputs": [
    {
     "name": "stdout",
     "output_type": "stream",
     "text": [
      "Getting image from https://www.falcom.co.jp/sen4/assets/character/detail/visual/rean.png\n",
      "Illustration rean.png downloaded.\n",
      "Getting image from https://www.falcom.co.jp/sen4/assets/character/detail/visual/juna.png\n",
      "Illustration juna.png downloaded.\n",
      "Getting image from https://www.falcom.co.jp/sen4/assets/character/detail/visual/kurt.png\n",
      "Illustration kurt.png downloaded.\n",
      "Getting image from https://www.falcom.co.jp/sen4/assets/character/detail/visual/altina.png\n",
      "Illustration altina.png downloaded.\n",
      "Getting image from https://www.falcom.co.jp/sen4/assets/character/detail/visual/musse.png\n",
      "Illustration musse.png downloaded.\n",
      "Getting image from https://www.falcom.co.jp/sen4/assets/character/detail/visual/ash.png\n",
      "Illustration ash.png downloaded.\n",
      "Getting image from https://www.falcom.co.jp/sen4/assets/character/detail/visual/crow.png\n",
      "Illustration crow.png downloaded.\n",
      "Getting image from https://www.falcom.co.jp/sen4/assets/character/detail/visual/alisa.png\n",
      "Illustration alisa.png downloaded.\n",
      "Getting image from https://www.falcom.co.jp/sen4/assets/character/detail/visual/alberich.png\n",
      "Illustration alberich.png downloaded.\n",
      "Getting image from https://www.falcom.co.jp/sen4/assets/character/detail/visual/irina.png\n",
      "Illustration irina.png downloaded.\n",
      "Getting image from https://www.falcom.co.jp/sen4/assets/character/detail/visual/kluger.png\n",
      "Illustration kluger.png downloaded.\n",
      "Getting image from https://www.falcom.co.jp/sen4/assets/character/detail/visual/emma.png\n",
      "Illustration emma.png downloaded.\n",
      "Getting image from https://www.falcom.co.jp/sen4/assets/character/detail/visual/roselia.png\n",
      "Illustration roselia.png downloaded.\n",
      "Getting image from https://www.falcom.co.jp/sen4/assets/character/detail/visual/clotilde.png\n",
      "Illustration clotilde.png downloaded.\n",
      "Getting image from https://www.falcom.co.jp/sen4/assets/character/detail/visual/eliot.png\n",
      "Illustration eliot.png downloaded.\n",
      "Getting image from https://www.falcom.co.jp/sen4/assets/character/detail/visual/machias.png\n",
      "Illustration machias.png downloaded.\n",
      "Getting image from https://www.falcom.co.jp/sen4/assets/character/detail/visual/laura.png\n",
      "Illustration laura.png downloaded.\n",
      "Getting image from https://www.falcom.co.jp/sen4/assets/character/detail/visual/jusis.png\n",
      "Illustration jusis.png downloaded.\n",
      "Getting image from https://www.falcom.co.jp/sen4/assets/character/detail/visual/gaius.png\n",
      "Illustration gaius.png downloaded.\n",
      "Getting image from https://www.falcom.co.jp/sen4/assets/character/detail/visual/thomas.png\n",
      "Illustration thomas.png downloaded.\n",
      "Getting image from https://www.falcom.co.jp/sen4/assets/character/detail/visual/rufus.png\n",
      "Illustration rufus.png downloaded.\n",
      "Getting image from https://www.falcom.co.jp/sen4/assets/character/detail/visual/fie.png\n",
      "Illustration fie.png downloaded.\n",
      "Getting image from https://www.falcom.co.jp/sen4/assets/character/detail/visual/rutger.png\n",
      "Illustration rutger.png downloaded.\n",
      "Getting image from https://www.falcom.co.jp/sen4/assets/character/detail/visual/xeno.png\n",
      "Illustration xeno.png downloaded.\n",
      "Getting image from https://www.falcom.co.jp/sen4/assets/character/detail/visual/leonidas.png\n",
      "Illustration leonidas.png downloaded.\n",
      "Getting image from https://www.falcom.co.jp/sen4/assets/character/detail/visual/lloyd.png\n",
      "Illustration lloyd.png downloaded.\n",
      "Getting image from https://www.falcom.co.jp/sen4/assets/character/detail/visual/elie.png\n",
      "Illustration elie.png downloaded.\n",
      "Getting image from https://www.falcom.co.jp/sen4/assets/character/detail/visual/kea.png\n",
      "Illustration kea.png downloaded.\n",
      "Getting image from https://www.falcom.co.jp/sen4/assets/character/detail/visual/tio.png\n",
      "Illustration tio.png downloaded.\n",
      "Getting image from https://www.falcom.co.jp/sen4/assets/character/detail/visual/randy.png\n",
      "Illustration randy.png downloaded.\n",
      "Getting image from https://www.falcom.co.jp/sen4/assets/character/detail/visual/mariabell.png\n",
      "Illustration mariabell.png downloaded.\n",
      "Getting image from https://www.falcom.co.jp/sen4/assets/character/detail/visual/arianrhod.png\n",
      "Illustration arianrhod.png downloaded.\n",
      "Getting image from https://www.falcom.co.jp/sen4/assets/character/detail/visual/dubarry.png\n",
      "Illustration dubarry.png downloaded.\n",
      "Getting image from https://www.falcom.co.jp/sen4/assets/character/detail/visual/george.png\n",
      "Illustration george.png downloaded.\n",
      "Getting image from https://www.falcom.co.jp/sen4/assets/character/detail/visual/campanella.png\n",
      "Illustration campanella.png downloaded.\n",
      "Getting image from https://www.falcom.co.jp/sen4/assets/character/detail/visual/mcburn.png\n",
      "Illustration mcburn.png downloaded.\n",
      "Getting image from https://www.falcom.co.jp/sen4/assets/character/detail/visual/shirley.png\n",
      "Illustration shirley.png downloaded.\n",
      "Getting image from https://www.falcom.co.jp/sen4/assets/character/detail/visual/cedric.png\n",
      "Illustration cedric.png downloaded.\n",
      "Getting image from https://www.falcom.co.jp/sen4/assets/character/detail/visual/osborne.png\n",
      "Illustration osborne.png downloaded.\n",
      "Getting image from https://www.falcom.co.jp/sen4/assets/character/detail/visual/lecter.png\n",
      "Illustration lecter.png downloaded.\n",
      "Getting image from https://www.falcom.co.jp/sen4/assets/character/detail/visual/claire.png\n",
      "Illustration claire.png downloaded.\n",
      "Getting image from https://www.falcom.co.jp/sen4/assets/character/detail/visual/estelle.png\n",
      "Illustration estelle.png downloaded.\n",
      "Getting image from https://www.falcom.co.jp/sen4/assets/character/detail/visual/joshua.png\n",
      "Illustration joshua.png downloaded.\n",
      "Getting image from https://www.falcom.co.jp/sen4/assets/character/detail/visual/renne.png\n",
      "Illustration renne.png downloaded.\n",
      "Getting image from https://www.falcom.co.jp/sen4/assets/character/detail/visual/alfin.png\n",
      "Illustration alfin.png downloaded.\n",
      "Getting image from https://www.falcom.co.jp/sen4/assets/character/detail/visual/elise.png\n",
      "Illustration elise.png downloaded.\n",
      "Getting image from https://www.falcom.co.jp/sen4/assets/character/detail/visual/towa.png\n",
      "Illustration towa.png downloaded.\n",
      "Getting image from https://www.falcom.co.jp/sen4/assets/character/detail/visual/sara.png\n",
      "Illustration sara.png downloaded.\n",
      "Getting image from https://www.falcom.co.jp/sen4/assets/character/detail/visual/aurelia.png\n",
      "Illustration aurelia.png downloaded.\n",
      "Getting image from https://www.falcom.co.jp/sen4/assets/character/detail/visual/scherazard.png\n",
      "Illustration scherazard.png downloaded.\n",
      "Getting image from https://www.falcom.co.jp/sen4/assets/character/detail/visual/klaudia.png\n",
      "Illustration klaudia.png downloaded.\n",
      "Getting image from https://www.falcom.co.jp/sen4/assets/character/detail/visual/cassius.png\n",
      "Illustration cassius.png downloaded.\n"
     ]
    }
   ],
   "source": [
    "character_url_list = get_character_page()\n",
    "#print(character_url_list)\n",
    "for char_url in character_url_list:\n",
    "    illustration_url = get_illustration_url(char_url)\n",
    "    print('Getting image from {}'.format(illustration_url))\n",
    "    download_images(illustration_url)"
   ]
  },
  {
   "cell_type": "code",
   "execution_count": null,
   "metadata": {
    "collapsed": true
   },
   "outputs": [],
   "source": []
  }
 ],
 "metadata": {
  "kernelspec": {
   "display_name": "Python [default]",
   "language": "python",
   "name": "python3"
  },
  "language_info": {
   "codemirror_mode": {
    "name": "ipython",
    "version": 3
   },
   "file_extension": ".py",
   "mimetype": "text/x-python",
   "name": "python",
   "nbconvert_exporter": "python",
   "pygments_lexer": "ipython3",
   "version": "3.6.2"
  }
 },
 "nbformat": 4,
 "nbformat_minor": 2
}
